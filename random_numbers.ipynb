{
 "cells": [
  {
   "cell_type": "code",
   "execution_count": 1,
   "id": "7af198e3",
   "metadata": {},
   "outputs": [],
   "source": [
    "#import the random module\n",
    "\n",
    "import random\n"
   ]
  },
  {
   "cell_type": "code",
   "execution_count": 2,
   "id": "e32f702a",
   "metadata": {},
   "outputs": [
    {
     "data": {
      "text/plain": [
       "-72"
      ]
     },
     "execution_count": 2,
     "metadata": {},
     "output_type": "execute_result"
    }
   ],
   "source": [
    "#ramdom number generator \n",
    "\n",
    "random.randint(-90,90)"
   ]
  },
  {
   "cell_type": "code",
   "execution_count": 3,
   "id": "91a01ea1",
   "metadata": {},
   "outputs": [
    {
     "data": {
      "text/plain": [
       "0.4954584784162308"
      ]
     },
     "execution_count": 3,
     "metadata": {},
     "output_type": "execute_result"
    }
   ],
   "source": [
    "#random() function\n",
    "\n",
    "random.random()\n"
   ]
  },
  {
   "cell_type": "code",
   "execution_count": 8,
   "id": "93c8f438",
   "metadata": {},
   "outputs": [
    {
     "data": {
      "text/plain": [
       "-64.5417253056848"
      ]
     },
     "execution_count": 8,
     "metadata": {},
     "output_type": "execute_result"
    }
   ],
   "source": [
    "#random with floating numbers to two decimals\n",
    "\n",
    "random_number=random.randint(-90,89)+random.random()\n",
    "\n",
    "random_number\n",
    " \n"
   ]
  },
  {
   "cell_type": "code",
   "execution_count": 6,
   "id": "8699db8c",
   "metadata": {},
   "outputs": [
    {
     "data": {
      "text/plain": [
       "-75"
      ]
     },
     "execution_count": 6,
     "metadata": {},
     "output_type": "execute_result"
    }
   ],
   "source": [
    "#new one randrange() function\n",
    "\n",
    "random.randrange(-90,90, step=1)\n"
   ]
  },
  {
   "cell_type": "code",
   "execution_count": 10,
   "id": "49e60f83",
   "metadata": {},
   "outputs": [
    {
     "data": {
      "text/plain": [
       "-78"
      ]
     },
     "execution_count": 10,
     "metadata": {},
     "output_type": "execute_result"
    }
   ],
   "source": [
    "random.randrange(-90,90, step=3)\n"
   ]
  },
  {
   "cell_type": "code",
   "execution_count": 11,
   "id": "41332c09",
   "metadata": {},
   "outputs": [
    {
     "data": {
      "text/plain": [
       "-82.52446636117087"
      ]
     },
     "execution_count": 11,
     "metadata": {},
     "output_type": "execute_result"
    }
   ],
   "source": [
    "random.uniform(-90,90)\n"
   ]
  },
  {
   "cell_type": "code",
   "execution_count": 12,
   "id": "82c2cdb4",
   "metadata": {},
   "outputs": [],
   "source": [
    "#import numpy module\n",
    "\n",
    "import numpy as np"
   ]
  },
  {
   "cell_type": "code",
   "execution_count": 13,
   "id": "bbaef81d",
   "metadata": {},
   "outputs": [
    {
     "data": {
      "text/plain": [
       "-52.95497259532135"
      ]
     },
     "execution_count": 13,
     "metadata": {},
     "output_type": "execute_result"
    }
   ],
   "source": [
    "np.random.uniform(-90.000, 90.000)\n"
   ]
  },
  {
   "cell_type": "code",
   "execution_count": 14,
   "id": "9c235c7a",
   "metadata": {},
   "outputs": [
    {
     "data": {
      "text/plain": [
       "array([-75.19947933, -10.85299573,  31.88914203,  76.35278302,\n",
       "        78.97294376, -73.05219723,  62.44119869, -26.80130336,\n",
       "       -21.15127959, -52.41792217, -83.73339752,  58.31775159,\n",
       "        50.10120604,  84.92491727, -53.42310876,  19.28646496,\n",
       "       -49.4460532 ,  65.59202253, -24.6640045 , -35.15184018,\n",
       "        22.81065514, -42.72253699, -77.97117544, -72.67233229,\n",
       "        12.14312961,  35.43300343, -73.00485567,  20.69094405,\n",
       "       -68.19228103, -35.4159562 , -86.42908361, -50.40055728,\n",
       "       -26.05392637, -44.69399483,   0.11491187, -68.78923336,\n",
       "       -19.13577655,   8.95340194,  -3.22136853, -42.22787013,\n",
       "        22.7509916 , -76.07862588, -20.10148526, -78.2683186 ,\n",
       "         1.95179662, -81.37778522, -83.9779754 , -79.98373424,\n",
       "       -34.22632651, -35.52204765])"
      ]
     },
     "execution_count": 14,
     "metadata": {},
     "output_type": "execute_result"
    }
   ],
   "source": [
    "#how to generate more than one number?  use size parameter\n",
    "\n",
    "np.random.uniform(-90.000, 90.000, size=50)\n"
   ]
  },
  {
   "cell_type": "code",
   "execution_count": 15,
   "id": "237f5197",
   "metadata": {},
   "outputs": [],
   "source": [
    "#timeit function to see how long it would take to generate the #'s\n",
    "\n",
    "import timeit\n"
   ]
  },
  {
   "cell_type": "code",
   "execution_count": 17,
   "id": "55ba734c",
   "metadata": {},
   "outputs": [
    {
     "name": "stdout",
     "output_type": "stream",
     "text": [
      "13.4 µs ± 88.1 ns per loop (mean ± std. dev. of 7 runs, 100000 loops each)\n"
     ]
    }
   ],
   "source": [
    "%timeit np.random.uniform(-90.000, 90.000, size=1500)"
   ]
  },
  {
   "cell_type": "code",
   "execution_count": 18,
   "id": "8fb3049e",
   "metadata": {},
   "outputs": [
    {
     "name": "stdout",
     "output_type": "stream",
     "text": [
      "1.19 µs ± 2.73 ns per loop (mean ± std. dev. of 7 runs, 1000000 loops each)\n"
     ]
    }
   ],
   "source": [
    "def latitudes(size):\n",
    "    \n",
    "    latitudes = []\n",
    "    \n",
    "    x = 0\n",
    "    \n",
    "    while x < (size):\n",
    "        \n",
    "        random_lat = random.randint(-90, 90) + random.random()\n",
    "        \n",
    "        latitudes.append(random_lat)\n",
    "        \n",
    "        x += 1\n",
    "        \n",
    "        return latitudes\n",
    "    \n",
    "# Call the function with 1500.\n",
    "\n",
    "\n",
    "%timeit latitudes(1500)\n",
    "\n",
    "        \n",
    "        "
   ]
  }
 ],
 "metadata": {
  "kernelspec": {
   "display_name": "PythonData",
   "language": "python",
   "name": "pythondata"
  },
  "language_info": {
   "codemirror_mode": {
    "name": "ipython",
    "version": 3
   },
   "file_extension": ".py",
   "mimetype": "text/x-python",
   "name": "python",
   "nbconvert_exporter": "python",
   "pygments_lexer": "ipython3",
   "version": "3.7.15"
  }
 },
 "nbformat": 4,
 "nbformat_minor": 5
}
