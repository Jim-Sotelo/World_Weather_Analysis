{
 "cells": [
  {
   "cell_type": "code",
   "execution_count": 1,
   "id": "1786ea42",
   "metadata": {},
   "outputs": [],
   "source": [
    "# Create a practice set of random latitude and longitude combinations.\n",
    "\n",
    "lats = [25.12903645, 25.92017388, 26.62509167, -59.98969384, 37.30571269]\n",
    "\n",
    "lngs = [-67.59741259, 11.09532135, 74.84233102, -76.89176677, -61.13376282]\n",
    "\n",
    "lat_lngs = zip(lats, lngs)"
   ]
  },
  {
   "cell_type": "code",
   "execution_count": 2,
   "id": "ae63a24a",
   "metadata": {},
   "outputs": [],
   "source": [
    "# Use the citipy module to determine city based on latitude and longitude.\n",
    "\n",
    "from citipy import citipy\n"
   ]
  },
  {
   "cell_type": "code",
   "execution_count": 3,
   "id": "eaa5e386",
   "metadata": {},
   "outputs": [],
   "source": [
    "coordinates = list(lat_lngs)"
   ]
  },
  {
   "cell_type": "code",
   "execution_count": 4,
   "id": "205170c9",
   "metadata": {},
   "outputs": [
    {
     "name": "stdout",
     "output_type": "stream",
     "text": [
      "cockburn town tc\n",
      "gat ly\n",
      "parvatsar in\n",
      "punta arenas cl\n",
      "saint george bm\n"
     ]
    }
   ],
   "source": [
    "# Use the print() function to display the latitude and longitude combinations.\n",
    "\n",
    "for coordinate in coordinates:\n",
    "    \n",
    "    print(citipy.nearest_city(coordinate[0], coordinate[1]).city_name,\n",
    "          \n",
    "          citipy.nearest_city(coordinate[0], coordinate[1]).country_code)\n",
    "    \n",
    "          \n",
    "          \n",
    "    "
   ]
  },
  {
   "cell_type": "code",
   "execution_count": 5,
   "id": "2657639f",
   "metadata": {},
   "outputs": [],
   "source": [
    "# Import the requests library.\n",
    "\n",
    "import requests\n",
    "\n",
    "# Import the API key.\n",
    "\n",
    "from config import weather_api_key\n"
   ]
  },
  {
   "cell_type": "code",
   "execution_count": 6,
   "id": "e7b0ef77",
   "metadata": {},
   "outputs": [
    {
     "name": "stdout",
     "output_type": "stream",
     "text": [
      "http://api.openweathermap.org/data/2.5/weather?units=Imperial&APPID=c34ddd8ec0dfea1c6836a01c627e5e25\n"
     ]
    }
   ],
   "source": [
    "# Starting URL for Weather Map API Call.\n",
    "\n",
    "url = \"http://api.openweathermap.org/data/2.5/weather?units=Imperial&APPID=\" + weather_api_key\n",
    "\n",
    "print(url)"
   ]
  },
  {
   "cell_type": "code",
   "execution_count": 7,
   "id": "09e2e36a",
   "metadata": {},
   "outputs": [
    {
     "name": "stdout",
     "output_type": "stream",
     "text": [
      "http://api.openweathermap.org/data/2.5/weather?units=Imperial&APPID=c34ddd8ec0dfea1c6836a01c627e5e25&q=Boston\n"
     ]
    }
   ],
   "source": [
    "# Create an endpoint URL for a city.\n",
    "\n",
    "city_url = url + \"&q=\" + \"Boston\"\n",
    "\n",
    "print(city_url)"
   ]
  },
  {
   "cell_type": "code",
   "execution_count": 8,
   "id": "c188b49c",
   "metadata": {},
   "outputs": [
    {
     "data": {
      "text/plain": [
       "<Response [200]>"
      ]
     },
     "execution_count": 8,
     "metadata": {},
     "output_type": "execute_result"
    }
   ],
   "source": [
    "# Make a 'Get' request for the city weather.\n",
    "\n",
    "city_weather = requests.get(city_url)\n",
    "\n",
    "city_weather\n",
    "\n"
   ]
  },
  {
   "cell_type": "code",
   "execution_count": 9,
   "id": "855b80da",
   "metadata": {},
   "outputs": [
    {
     "data": {
      "text/plain": [
       "<Response [404]>"
      ]
     },
     "execution_count": 9,
     "metadata": {},
     "output_type": "execute_result"
    }
   ],
   "source": [
    "# Create an endpoint URL for a city.\n",
    "\n",
    "city_url = url + \"&q=\" + \"Bston\"\n",
    "\n",
    "city_weather = requests.get(city_url)\n",
    "\n",
    "city_weather"
   ]
  },
  {
   "cell_type": "code",
   "execution_count": 10,
   "id": "fb15e9c9",
   "metadata": {},
   "outputs": [
    {
     "data": {
      "text/plain": [
       "<Response [200]>"
      ]
     },
     "execution_count": 10,
     "metadata": {},
     "output_type": "execute_result"
    }
   ],
   "source": [
    "# Create an endpoint URL for a city.\n",
    "\n",
    "city_url = url + \"&q=\" + \"Boston\"\n",
    "\n",
    "city_weather = requests.get(city_url)\n",
    "\n",
    "city_weather"
   ]
  },
  {
   "cell_type": "code",
   "execution_count": 11,
   "id": "b2cec3ca",
   "metadata": {},
   "outputs": [
    {
     "data": {
      "text/plain": [
       "'{\"coord\":{\"lon\":-71.0598,\"lat\":42.3584},\"weather\":[{\"id\":803,\"main\":\"Clouds\",\"description\":\"broken clouds\",\"icon\":\"04n\"}],\"base\":\"stations\",\"main\":{\"temp\":44.01,\"feels_like\":41.16,\"temp_min\":41.38,\"temp_max\":46.17,\"pressure\":1012,\"humidity\":64},\"visibility\":10000,\"wind\":{\"speed\":5.01,\"deg\":343,\"gust\":11.99},\"clouds\":{\"all\":73},\"dt\":1672616945,\"sys\":{\"type\":2,\"id\":2013408,\"country\":\"US\",\"sunrise\":1672575205,\"sunset\":1672608101},\"timezone\":-18000,\"id\":4930956,\"name\":\"Boston\",\"cod\":200}'"
      ]
     },
     "execution_count": 11,
     "metadata": {},
     "output_type": "execute_result"
    }
   ],
   "source": [
    "# Get the text of the 'Get' request.\n",
    "\n",
    "city_weather.text"
   ]
  },
  {
   "cell_type": "code",
   "execution_count": 12,
   "id": "ebbcb4e9",
   "metadata": {},
   "outputs": [
    {
     "data": {
      "text/plain": [
       "{'coord': {'lon': -71.0598, 'lat': 42.3584},\n",
       " 'weather': [{'id': 803,\n",
       "   'main': 'Clouds',\n",
       "   'description': 'broken clouds',\n",
       "   'icon': '04n'}],\n",
       " 'base': 'stations',\n",
       " 'main': {'temp': 44.01,\n",
       "  'feels_like': 41.16,\n",
       "  'temp_min': 41.38,\n",
       "  'temp_max': 46.17,\n",
       "  'pressure': 1012,\n",
       "  'humidity': 64},\n",
       " 'visibility': 10000,\n",
       " 'wind': {'speed': 5.01, 'deg': 343, 'gust': 11.99},\n",
       " 'clouds': {'all': 73},\n",
       " 'dt': 1672616945,\n",
       " 'sys': {'type': 2,\n",
       "  'id': 2013408,\n",
       "  'country': 'US',\n",
       "  'sunrise': 1672575205,\n",
       "  'sunset': 1672608101},\n",
       " 'timezone': -18000,\n",
       " 'id': 4930956,\n",
       " 'name': 'Boston',\n",
       " 'cod': 200}"
      ]
     },
     "execution_count": 12,
     "metadata": {},
     "output_type": "execute_result"
    }
   ],
   "source": [
    "# Get the JSON text of the 'Get' request.\n",
    "\n",
    "city_weather.json()\n"
   ]
  },
  {
   "cell_type": "code",
   "execution_count": 13,
   "id": "216029b7",
   "metadata": {},
   "outputs": [
    {
     "name": "stdout",
     "output_type": "stream",
     "text": [
      "City Weather found.\n"
     ]
    }
   ],
   "source": [
    "# Create an endpoint URL for a city.\n",
    "\n",
    "city_url = url + \"&q=\" + \"Boston\"\n",
    "\n",
    "city_weather = requests.get(city_url)\n",
    "\n",
    "if city_weather.status_code == 200:\n",
    "    \n",
    "    print(f\"City Weather found.\")\n",
    "    \n",
    "else:\n",
    "    \n",
    "    print(f\"City weather not found.\")"
   ]
  },
  {
   "cell_type": "code",
   "execution_count": 14,
   "id": "af8078c6",
   "metadata": {},
   "outputs": [
    {
     "name": "stdout",
     "output_type": "stream",
     "text": [
      "City Weather found.\n"
     ]
    }
   ],
   "source": [
    "# Create an endpoint URL for a city.\n",
    "\n",
    "city_url = url + \"&q=\" + \"Boston\"\n",
    "\n",
    "city_weather = requests.get(city_url)\n",
    "\n",
    "if city_weather.status_code == 200:\n",
    "    \n",
    "    print(f\"City Weather found.\")\n",
    "    \n",
    "else:\n",
    "    \n",
    "    print(f\"City weather not found.\")"
   ]
  },
  {
   "cell_type": "code",
   "execution_count": 15,
   "id": "c22a1559",
   "metadata": {},
   "outputs": [
    {
     "name": "stdout",
     "output_type": "stream",
     "text": [
      "http://api.openweathermap.org/data/2.5/weather?units=Imperial&APPID=c34ddd8ec0dfea1c6836a01c627e5e25&q=Boston\n"
     ]
    }
   ],
   "source": [
    "print(city_url)\n"
   ]
  },
  {
   "cell_type": "code",
   "execution_count": 16,
   "id": "190d2ebf",
   "metadata": {},
   "outputs": [
    {
     "data": {
      "text/plain": [
       "{'coord': {'lon': -71.0598, 'lat': 42.3584},\n",
       " 'weather': [{'id': 803,\n",
       "   'main': 'Clouds',\n",
       "   'description': 'broken clouds',\n",
       "   'icon': '04n'}],\n",
       " 'base': 'stations',\n",
       " 'main': {'temp': 44.01,\n",
       "  'feels_like': 41.16,\n",
       "  'temp_min': 41.38,\n",
       "  'temp_max': 46.17,\n",
       "  'pressure': 1012,\n",
       "  'humidity': 64},\n",
       " 'visibility': 10000,\n",
       " 'wind': {'speed': 5.01, 'deg': 343, 'gust': 11.99},\n",
       " 'clouds': {'all': 73},\n",
       " 'dt': 1672616945,\n",
       " 'sys': {'type': 2,\n",
       "  'id': 2013408,\n",
       "  'country': 'US',\n",
       "  'sunrise': 1672575205,\n",
       "  'sunset': 1672608101},\n",
       " 'timezone': -18000,\n",
       " 'id': 4930956,\n",
       " 'name': 'Boston',\n",
       " 'cod': 200}"
      ]
     },
     "execution_count": 16,
     "metadata": {},
     "output_type": "execute_result"
    }
   ],
   "source": [
    "# Create an endpoint URL for a city.\n",
    "\n",
    "city_url = url + \"&q=\" + \"Boston\"\n",
    "\n",
    "city_weather = requests.get(city_url)\n",
    "\n",
    "city_weather.json()"
   ]
  },
  {
   "cell_type": "code",
   "execution_count": 17,
   "id": "c98c31fb",
   "metadata": {},
   "outputs": [],
   "source": [
    "# Get the JSON data.\n",
    "\n",
    "boston_data = city_weather.json()"
   ]
  },
  {
   "cell_type": "code",
   "execution_count": 18,
   "id": "d9dbec56",
   "metadata": {},
   "outputs": [
    {
     "data": {
      "text/plain": [
       "'US'"
      ]
     },
     "execution_count": 18,
     "metadata": {},
     "output_type": "execute_result"
    }
   ],
   "source": [
    "boston_data['sys']['country']\n"
   ]
  },
  {
   "cell_type": "code",
   "execution_count": 19,
   "id": "4f874e98",
   "metadata": {},
   "outputs": [
    {
     "name": "stdout",
     "output_type": "stream",
     "text": [
      "42.3584 -71.0598 46.17 64 73 5.01\n"
     ]
    }
   ],
   "source": [
    "lat = boston_data[\"coord\"][\"lat\"]\n",
    "\n",
    "lng = boston_data[\"coord\"][\"lon\"]\n",
    "\n",
    "max_temp = boston_data[\"main\"][\"temp_max\"]\n",
    "\n",
    "humidity = boston_data[\"main\"][\"humidity\"]\n",
    "\n",
    "clouds = boston_data[\"clouds\"][\"all\"]\n",
    "\n",
    "wind = boston_data[\"wind\"][\"speed\"]\n",
    "\n",
    "print(lat, lng, max_temp, humidity, clouds, wind)"
   ]
  },
  {
   "cell_type": "code",
   "execution_count": 20,
   "id": "0b926c55",
   "metadata": {},
   "outputs": [
    {
     "data": {
      "text/plain": [
       "'2023-01-01 23:49:05'"
      ]
     },
     "execution_count": 20,
     "metadata": {},
     "output_type": "execute_result"
    }
   ],
   "source": [
    "# Import the datetime module from the datetime library. this gets us our time instead of seconds but still tough to read\n",
    "\n",
    "#adding .strftime('%Y-%m-%d %H:%M:%S') that will get us a format better\n",
    "\n",
    "from datetime import datetime\n",
    "\n",
    "# Get the date from the JSON file.\n",
    "\n",
    "date = boston_data[\"dt\"]\n",
    "\n",
    "# Convert the UTC date to a date format with year, month, day, hours, minutes, and seconds.\n",
    "\n",
    "datetime.utcfromtimestamp(date).strftime('%Y-%m-%d %H:%M:%S')"
   ]
  },
  {
   "cell_type": "code",
   "execution_count": 23,
   "id": "f2c92d1e",
   "metadata": {},
   "outputs": [
    {
     "data": {
      "text/plain": [
       "'01/01/23'"
      ]
     },
     "execution_count": 23,
     "metadata": {},
     "output_type": "execute_result"
    }
   ],
   "source": [
    "# Import the time module. .strftime(\"%x\") gives us time and date we can commprehend \n",
    "\n",
    "import time\n",
    "\n",
    "# Get today's date in seconds.\n",
    "\n",
    "today = time.strftime(\"%x\")\n",
    "\n",
    "today"
   ]
  },
  {
   "cell_type": "code",
   "execution_count": null,
   "id": "bca189f4",
   "metadata": {},
   "outputs": [],
   "source": []
  }
 ],
 "metadata": {
  "kernelspec": {
   "display_name": "PythonData",
   "language": "python",
   "name": "pythondata"
  },
  "language_info": {
   "codemirror_mode": {
    "name": "ipython",
    "version": 3
   },
   "file_extension": ".py",
   "mimetype": "text/x-python",
   "name": "python",
   "nbconvert_exporter": "python",
   "pygments_lexer": "ipython3",
   "version": "3.7.15"
  }
 },
 "nbformat": 4,
 "nbformat_minor": 5
}
